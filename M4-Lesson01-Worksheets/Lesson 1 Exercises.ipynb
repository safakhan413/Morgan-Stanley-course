{
 "cells": [
  {
   "cell_type": "markdown",
   "metadata": {},
   "source": [
    "# Lesson 1 Activities: DateTime\n",
    "The exercises on this page will allow you to demonstrate your ability to:\n",
    "* Define a value as a date or as a time.\n",
    "* Split a `datetime` value into individual values, such as year, month, day, and hour.\n",
    "* Use time and date values in a variety of operations."
   ]
  },
  {
   "cell_type": "markdown",
   "metadata": {},
   "source": [
    "## Activity 1\n",
    "Write a program to display the following: \n",
    "\n",
    "* Current date and time \n",
    "* Current year \n",
    "* Current month\n",
    "* Week number of the year \n",
    "* Weekday of the week \n",
    "* Day of the year \n",
    "* Day of the month \n",
    "* Day of the week "
   ]
  },
  {
   "cell_type": "code",
   "execution_count": 8,
   "metadata": {},
   "outputs": [
    {
     "name": "stdout",
     "output_type": "stream",
     "text": [
      "2021-11-17 04:27:53.785227\n",
      "Year is 2021\n",
      "Month is 11\n",
      "Week Num 46\n",
      "Week day 3\n",
      "Day of the year 321\n",
      "Day of the month 17\n",
      "Day of the week 2\n"
     ]
    }
   ],
   "source": [
    "# your code here\n",
    "import datetime\n",
    "base = datetime.datetime.today()\n",
    "print(base)\n",
    "year, week_num, day_of_week = base.isocalendar()\n",
    "\n",
    "print(f\"Year is {year}\")\n",
    "print(f\"Month is {base.date().month}\")\n",
    "print(f\"Week Num {week_num}\")\n",
    "print(f\"Week day { day_of_week}\")\n",
    "print(f\"Day of the year { base.timetuple().tm_yday}\")\n",
    "print(f\"Day of the month { base.timetuple().tm_mday}\")\n",
    "print(f\"Day of the week { base.timetuple().tm_wday}\")\n",
    "\n",
    "\n"
   ]
  },
  {
   "cell_type": "markdown",
   "metadata": {},
   "source": [
    "## Activity 2 \n",
    "\n",
    "Write a function that prompts the user for a year and checks if it is a leap year. The function should return `True` if the input is a leap year and `False` otherwise. \n",
    "\n",
    "Make sure to test your code with various inputs. "
   ]
  },
  {
   "cell_type": "code",
   "execution_count": 2,
   "metadata": {},
   "outputs": [
    {
     "name": "stdout",
     "output_type": "stream",
     "text": [
      "2021-11-17 04:39:41.498561\n",
      "Year is False\n"
     ]
    }
   ],
   "source": [
    "import calendar\n",
    "import datetime\n",
    "base = datetime.datetime.today()\n",
    "print(base)\n",
    "year, week_num, day_of_week = base.isocalendar()\n",
    "def isLeap(year):\n",
    "    if calendar.isleap(year):\n",
    "        return True\n",
    "    else: \n",
    "        return False\n",
    "    \n",
    "\n",
    "print(f\"Year is {isLeap(year)}\")\n",
    "# your code here"
   ]
  },
  {
   "cell_type": "markdown",
   "metadata": {},
   "source": [
    "## Activity 3 \n",
    "\n",
    "Write a function that prompts the user for a date (or uses the current date if the user does not input a date) and subtracts five days from that date. The function should return the new date.\n",
    "\n",
    "Display the result to the user. "
   ]
  },
  {
   "cell_type": "code",
   "execution_count": null,
   "metadata": {},
   "outputs": [],
   "source": [
    "# your code here"
   ]
  },
  {
   "cell_type": "markdown",
   "metadata": {},
   "source": [
    "## Activity 4 \n",
    "\n",
    "Write a program that converts a Unix timestamp string to a human-readable date. "
   ]
  },
  {
   "cell_type": "code",
   "execution_count": null,
   "metadata": {},
   "outputs": [],
   "source": [
    "# your code here"
   ]
  },
  {
   "cell_type": "markdown",
   "metadata": {},
   "source": [
    "## Activity 5 \n",
    "\n",
    "Write a program that prints the dates for yesterday, today, and tomorrow. "
   ]
  },
  {
   "cell_type": "code",
   "execution_count": null,
   "metadata": {},
   "outputs": [],
   "source": [
    "# your code here"
   ]
  },
  {
   "cell_type": "markdown",
   "metadata": {},
   "source": [
    "## Activity 6 \n",
    "\n",
    "Write a program that prints the date for the next five days, starting from today. "
   ]
  },
  {
   "cell_type": "code",
   "execution_count": null,
   "metadata": {},
   "outputs": [],
   "source": [
    "# your code here"
   ]
  },
  {
   "cell_type": "markdown",
   "metadata": {},
   "source": [
    "## Activity 7 \n",
    "\n",
    "Write a program that adds five seconds to the current time and displays the result. "
   ]
  },
  {
   "cell_type": "code",
   "execution_count": null,
   "metadata": {},
   "outputs": [],
   "source": [
    "# your code here"
   ]
  },
  {
   "cell_type": "markdown",
   "metadata": {},
   "source": [
    "## Activity 8 \n",
    "\n",
    "Write a program that prompts the user for two different dates, computes the number of days between those dates, and displays the results. \n",
    "\n",
    "The order in which the user enters the dates should not affect the results. "
   ]
  },
  {
   "cell_type": "code",
   "execution_count": 1,
   "metadata": {},
   "outputs": [],
   "source": [
    "# your code here"
   ]
  }
 ],
 "metadata": {
  "kernelspec": {
   "display_name": "Python 3",
   "language": "python",
   "name": "python3"
  },
  "language_info": {
   "codemirror_mode": {
    "name": "ipython",
    "version": 3
   },
   "file_extension": ".py",
   "mimetype": "text/x-python",
   "name": "python",
   "nbconvert_exporter": "python",
   "pygments_lexer": "ipython3",
   "version": "3.7.12"
  }
 },
 "nbformat": 4,
 "nbformat_minor": 2
}
